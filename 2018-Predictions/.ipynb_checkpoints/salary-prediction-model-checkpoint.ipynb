{
 "cells": [
  {
   "cell_type": "code",
   "execution_count": 1,
   "metadata": {
    "collapsed": true
   },
   "outputs": [],
   "source": [
    "import pandas as pd\n",
    "import numpy as np\n",
    "from sklearn.neighbors import KNeighborsRegressor\n",
    "from sklearn.model_selection import train_test_split\n",
    "from sklearn.neighbors import KNeighborsClassifier\n",
    "\n",
    "from sklearn.metrics import mean_squared_error\n",
    "\n",
    "import matplotlib.pyplot as plt\n",
    "%matplotlib inline"
   ]
  },
  {
   "cell_type": "code",
   "execution_count": 4,
   "metadata": {
    "collapsed": true
   },
   "outputs": [],
   "source": [
    "#adv_2017 = pd.read_csv(\"../player-data-wrangled/player2017/Adv-2017wrangled.csv\")\n",
    "#per36_2017 = pd.read_csv(\"../player-data-wrangled/player2017/Per36-2017wrangled.csv\")\n",
    "#salary_2017 = pd.read_csv(\"../salary-data/fixed-fa-signings/fixed-2017.csv\")\n",
    "#df = adv_2017.merge(salary_2017, how = \"inner\", left_on = ['fix'], right_on = ['name'])\n",
    "#df = adv_2017.merge(salary_2017, how = \"inner\", left_on = ['fix'], right_on = ['name'])\n",
    "\n",
    "#column_names = list(df.columns.tolist())\n",
    "\n",
    "#df.drop(column_names[0:7], axis = 1, inplace = True)\n",
    "#df.drop(column_names[30:39], axis = 1, inplace = True)\n",
    "#df.drop([\"X\", \"X.1\"], axis = 1, inplace = True)\n",
    "\n",
    "#df = df.merge(per36_2017, how = \"inner\", left_on = ['name'], right_on = ['fix'])\n",
    "#df.drop(['name', 'Unnamed: 0', 'fix', 'Tm', 'Player', 'Rk', 'Pos'], axis = 1, inplace= True)\n",
    "#df[df['X3P.'].isnull()] = 0\n",
    "#df[df['FT.'].isnull()] = 0\n",
    "\n",
    "df = pd.read_csv(\"../Final-dataset/percentCap_trimmed.csv\")\n",
    "df.drop([\"Unnamed: 0\"], axis = 1, inplace = True)"
   ]
  },
  {
   "cell_type": "code",
   "execution_count": 5,
   "metadata": {
    "collapsed": false
   },
   "outputs": [
    {
     "data": {
      "text/html": [
       "<div>\n",
       "<style>\n",
       "    .dataframe thead tr:only-child th {\n",
       "        text-align: right;\n",
       "    }\n",
       "\n",
       "    .dataframe thead th {\n",
       "        text-align: left;\n",
       "    }\n",
       "\n",
       "    .dataframe tbody tr th {\n",
       "        vertical-align: top;\n",
       "    }\n",
       "</style>\n",
       "<table border=\"1\" class=\"dataframe\">\n",
       "  <thead>\n",
       "    <tr style=\"text-align: right;\">\n",
       "      <th></th>\n",
       "      <th>name</th>\n",
       "      <th>DRB</th>\n",
       "      <th>TOV</th>\n",
       "      <th>PPG</th>\n",
       "      <th>VORP</th>\n",
       "      <th>Salary</th>\n",
       "      <th>PercentCap</th>\n",
       "      <th>Cluster</th>\n",
       "      <th>capCluster</th>\n",
       "    </tr>\n",
       "  </thead>\n",
       "  <tbody>\n",
       "    <tr>\n",
       "      <th>0</th>\n",
       "      <td>leandrobarbosa</td>\n",
       "      <td>-0.229617</td>\n",
       "      <td>-0.211584</td>\n",
       "      <td>-0.100782</td>\n",
       "      <td>-0.619042</td>\n",
       "      <td>1448490</td>\n",
       "      <td>0.022968</td>\n",
       "      <td>2</td>\n",
       "      <td>2</td>\n",
       "    </tr>\n",
       "    <tr>\n",
       "      <th>1</th>\n",
       "      <td>ericbledsoe</td>\n",
       "      <td>2.139833</td>\n",
       "      <td>2.631595</td>\n",
       "      <td>1.640817</td>\n",
       "      <td>0.882610</td>\n",
       "      <td>14000000</td>\n",
       "      <td>0.221993</td>\n",
       "      <td>8</td>\n",
       "      <td>8</td>\n",
       "    </tr>\n",
       "    <tr>\n",
       "      <th>2</th>\n",
       "      <td>averybradley</td>\n",
       "      <td>1.097275</td>\n",
       "      <td>0.530115</td>\n",
       "      <td>1.162731</td>\n",
       "      <td>-0.619042</td>\n",
       "      <td>8000000</td>\n",
       "      <td>0.126853</td>\n",
       "      <td>6</td>\n",
       "      <td>5</td>\n",
       "    </tr>\n",
       "    <tr>\n",
       "      <th>3</th>\n",
       "      <td>rasualbutler</td>\n",
       "      <td>-1.082619</td>\n",
       "      <td>-1.200516</td>\n",
       "      <td>-0.920358</td>\n",
       "      <td>-0.393794</td>\n",
       "      <td>1448490</td>\n",
       "      <td>0.022968</td>\n",
       "      <td>2</td>\n",
       "      <td>2</td>\n",
       "    </tr>\n",
       "    <tr>\n",
       "      <th>4</th>\n",
       "      <td>vincecarter</td>\n",
       "      <td>0.812941</td>\n",
       "      <td>0.159265</td>\n",
       "      <td>0.650496</td>\n",
       "      <td>0.732445</td>\n",
       "      <td>4088019</td>\n",
       "      <td>0.064822</td>\n",
       "      <td>4</td>\n",
       "      <td>3</td>\n",
       "    </tr>\n",
       "  </tbody>\n",
       "</table>\n",
       "</div>"
      ],
      "text/plain": [
       "             name       DRB       TOV       PPG      VORP    Salary  \\\n",
       "0  leandrobarbosa -0.229617 -0.211584 -0.100782 -0.619042   1448490   \n",
       "1     ericbledsoe  2.139833  2.631595  1.640817  0.882610  14000000   \n",
       "2    averybradley  1.097275  0.530115  1.162731 -0.619042   8000000   \n",
       "3    rasualbutler -1.082619 -1.200516 -0.920358 -0.393794   1448490   \n",
       "4     vincecarter  0.812941  0.159265  0.650496  0.732445   4088019   \n",
       "\n",
       "   PercentCap  Cluster  capCluster  \n",
       "0    0.022968        2           2  \n",
       "1    0.221993        8           8  \n",
       "2    0.126853        6           5  \n",
       "3    0.022968        2           2  \n",
       "4    0.064822        4           3  "
      ]
     },
     "execution_count": 5,
     "metadata": {},
     "output_type": "execute_result"
    }
   ],
   "source": [
    "df.head()"
   ]
  },
  {
   "cell_type": "code",
   "execution_count": 6,
   "metadata": {
    "collapsed": false
   },
   "outputs": [
    {
     "data": {
      "text/plain": [
       "name          dionwaiters\n",
       "DRB              0.743172\n",
       "TOV               1.40983\n",
       "PPG               1.21712\n",
       "VORP            -0.147432\n",
       "Salary           13000000\n",
       "PercentCap        0.13119\n",
       "Cluster                 8\n",
       "capCluster              6\n",
       "Name: 362, dtype: object"
      ]
     },
     "execution_count": 6,
     "metadata": {},
     "output_type": "execute_result"
    }
   ],
   "source": [
    "df.iloc[362]"
   ]
  },
  {
   "cell_type": "code",
   "execution_count": 7,
   "metadata": {
    "collapsed": false
   },
   "outputs": [
    {
     "data": {
      "text/plain": [
       "1    98\n",
       "2    89\n",
       "3    72\n",
       "8    64\n",
       "4    49\n",
       "5    34\n",
       "6    25\n",
       "7    14\n",
       "Name: capCluster, dtype: int64"
      ]
     },
     "execution_count": 7,
     "metadata": {},
     "output_type": "execute_result"
    }
   ],
   "source": [
    "df.capCluster.value_counts()"
   ]
  },
  {
   "cell_type": "code",
   "execution_count": 8,
   "metadata": {
    "collapsed": false
   },
   "outputs": [
    {
     "data": {
      "text/plain": [
       "(array([ 98.,  89.,  72.,   0.,  49.,  34.,   0.,  25.,  14.,  64.]),\n",
       " array([ 1. ,  1.7,  2.4,  3.1,  3.8,  4.5,  5.2,  5.9,  6.6,  7.3,  8. ]),\n",
       " <a list of 10 Patch objects>)"
      ]
     },
     "execution_count": 8,
     "metadata": {},
     "output_type": "execute_result"
    },
    {
     "data": {
      "image/png": "[encoded data removed]",
      "text/plain": [
       "<matplotlib.figure.Figure at 0x2b65b448668>"
      ]
     },
     "metadata": {},
     "output_type": "display_data"
    }
   ],
   "source": [
    "plt.hist(df['capCluster'])"
   ]
  },
  {
   "cell_type": "code",
   "execution_count": 9,
   "metadata": {
    "collapsed": true
   },
   "outputs": [],
   "source": [
    "X_var = df.drop([\"name\", \"Salary\", \"Cluster\", \"PercentCap\", \"capCluster\"], axis = 1)\n",
    "y_var = df[\"capCluster\"]"
   ]
  },
  {
   "cell_type": "code",
   "execution_count": 10,
   "metadata": {
    "collapsed": false
   },
   "outputs": [
    {
     "data": {
      "text/html": [
       "<div>\n",
       "<style>\n",
       "    .dataframe thead tr:only-child th {\n",
       "        text-align: right;\n",
       "    }\n",
       "\n",
       "    .dataframe thead th {\n",
       "        text-align: left;\n",
       "    }\n",
       "\n",
       "    .dataframe tbody tr th {\n",
       "        vertical-align: top;\n",
       "    }\n",
       "</style>\n",
       "<table border=\"1\" class=\"dataframe\">\n",
       "  <thead>\n",
       "    <tr style=\"text-align: right;\">\n",
       "      <th></th>\n",
       "      <th>DRB</th>\n",
       "      <th>TOV</th>\n",
       "      <th>PPG</th>\n",
       "      <th>VORP</th>\n",
       "    </tr>\n",
       "  </thead>\n",
       "  <tbody>\n",
       "    <tr>\n",
       "      <th>0</th>\n",
       "      <td>-0.229617</td>\n",
       "      <td>-0.211584</td>\n",
       "      <td>-0.100782</td>\n",
       "      <td>-0.619042</td>\n",
       "    </tr>\n",
       "    <tr>\n",
       "      <th>1</th>\n",
       "      <td>2.139833</td>\n",
       "      <td>2.631595</td>\n",
       "      <td>1.640817</td>\n",
       "      <td>0.882610</td>\n",
       "    </tr>\n",
       "    <tr>\n",
       "      <th>2</th>\n",
       "      <td>1.097275</td>\n",
       "      <td>0.530115</td>\n",
       "      <td>1.162731</td>\n",
       "      <td>-0.619042</td>\n",
       "    </tr>\n",
       "    <tr>\n",
       "      <th>3</th>\n",
       "      <td>-1.082619</td>\n",
       "      <td>-1.200516</td>\n",
       "      <td>-0.920358</td>\n",
       "      <td>-0.393794</td>\n",
       "    </tr>\n",
       "    <tr>\n",
       "      <th>4</th>\n",
       "      <td>0.812941</td>\n",
       "      <td>0.159265</td>\n",
       "      <td>0.650496</td>\n",
       "      <td>0.732445</td>\n",
       "    </tr>\n",
       "  </tbody>\n",
       "</table>\n",
       "</div>"
      ],
      "text/plain": [
       "        DRB       TOV       PPG      VORP\n",
       "0 -0.229617 -0.211584 -0.100782 -0.619042\n",
       "1  2.139833  2.631595  1.640817  0.882610\n",
       "2  1.097275  0.530115  1.162731 -0.619042\n",
       "3 -1.082619 -1.200516 -0.920358 -0.393794\n",
       "4  0.812941  0.159265  0.650496  0.732445"
      ]
     },
     "execution_count": 10,
     "metadata": {},
     "output_type": "execute_result"
    }
   ],
   "source": [
    "X_var.head()"
   ]
  },
  {
   "cell_type": "code",
   "execution_count": 11,
   "metadata": {
    "collapsed": true
   },
   "outputs": [],
   "source": [
    "def model_fit(model, X_train, X_test, y_train, y_test):\n",
    "    model.fit(X_train, y_train)\n",
    "    train_acc = round(model.score(X_train, y_train) * 100, 5)\n",
    "    test_acc = round(model.score(X_test, y_test) * 100, 5)\n",
    "    y_test_pred = model.predict(X_test)\n",
    "    average_error = np.mean(abs(y_test - y_test_pred))\n",
    "    \n",
    "    data = {\"y_test\": y_test, \"y_test_pred\": y_test_pred}\n",
    "    predictions_df = pd.DataFrame(columns = [\"y_test\", \"y_test_pred\"], data = data)        \n",
    "    \n",
    "    print('Train accuracy (R^2): ', train_acc, '\\nTest accuracy (R^2): ', test_acc, '\\nTest error (average error): ', average_error, '\\n', predictions_df)"
   ]
  },
  {
   "cell_type": "code",
   "execution_count": 12,
   "metadata": {
    "collapsed": true
   },
   "outputs": [],
   "source": [
    "X_train, X_test, y_train, y_test = train_test_split(X_var, y_var, test_size = .2, random_state = 1)"
   ]
  },
  {
   "cell_type": "code",
   "execution_count": 13,
   "metadata": {
    "collapsed": false
   },
   "outputs": [
    {
     "data": {
      "text/plain": [
       "1    77\n",
       "2    71\n",
       "3    57\n",
       "8    54\n",
       "4    37\n",
       "5    29\n",
       "6    18\n",
       "7    13\n",
       "Name: capCluster, dtype: int64"
      ]
     },
     "execution_count": 13,
     "metadata": {},
     "output_type": "execute_result"
    }
   ],
   "source": [
    "y_train.value_counts()"
   ]
  },
  {
   "cell_type": "code",
   "execution_count": 14,
   "metadata": {
    "collapsed": false
   },
   "outputs": [
    {
     "name": "stdout",
     "output_type": "stream",
     "text": [
      "Train accuracy (R^2):  52.80899 \n",
      "Test accuracy (R^2):  29.21348 \n",
      "Test error (average error):  1.3932584269662922 \n",
      "      y_test  y_test_pred\n",
      "249       8            8\n",
      "180       3            1\n",
      "292       6            4\n",
      "31        3            5\n",
      "310       8            8\n",
      "225       8            8\n",
      "185       4            1\n",
      "399       1            1\n",
      "443       3            3\n",
      "4         3            2\n",
      "238       4            2\n",
      "287       5            8\n",
      "132       3            3\n",
      "392       5            5\n",
      "161       2            3\n",
      "165       2            1\n",
      "370       4            3\n",
      "325       1            2\n",
      "260       4            2\n",
      "353       2            1\n",
      "221       2            1\n",
      "283       4            1\n",
      "284       1            1\n",
      "5         3            4\n",
      "128       8            1\n",
      "350       3            3\n",
      "294       1            1\n",
      "286       3            2\n",
      "146       2            1\n",
      "17        1            3\n",
      "..      ...          ...\n",
      "90        2            1\n",
      "214       8            5\n",
      "223       1            1\n",
      "378       2            1\n",
      "339       1            1\n",
      "427       2            2\n",
      "436       1            1\n",
      "6         4            7\n",
      "306       4            2\n",
      "208       8            5\n",
      "345       3            3\n",
      "289       4            3\n",
      "245       6            7\n",
      "173       3            5\n",
      "388       2            1\n",
      "403       5            3\n",
      "58        8            8\n",
      "334       1            3\n",
      "139       1            3\n",
      "236       6            5\n",
      "299       1            2\n",
      "213       1            1\n",
      "159       2            2\n",
      "18        3            2\n",
      "40        5            2\n",
      "191       2            1\n",
      "417       1            1\n",
      "273       8            8\n",
      "362       6            1\n",
      "258       1            1\n",
      "\n",
      "[89 rows x 2 columns]\n"
     ]
    }
   ],
   "source": [
    "model_fit(KNeighborsClassifier(), X_train, X_test, y_train, y_test)"
   ]
  },
  {
   "cell_type": "code",
   "execution_count": 22,
   "metadata": {
    "collapsed": true
   },
   "outputs": [],
   "source": [
    "X_2018 = pd.read_csv(\"../Final-dataset/2018-Final.csv\")\n",
    "names = X_2018.name\n",
    "X_2018.drop(['Unnamed: 0', 'name'], axis = 1, inplace = True)"
   ]
  },
  {
   "cell_type": "code",
   "execution_count": 23,
   "metadata": {
    "collapsed": false
   },
   "outputs": [
    {
     "data": {
      "text/html": [
       "<div>\n",
       "<style>\n",
       "    .dataframe thead tr:only-child th {\n",
       "        text-align: right;\n",
       "    }\n",
       "\n",
       "    .dataframe thead th {\n",
       "        text-align: left;\n",
       "    }\n",
       "\n",
       "    .dataframe tbody tr th {\n",
       "        vertical-align: top;\n",
       "    }\n",
       "</style>\n",
       "<table border=\"1\" class=\"dataframe\">\n",
       "  <thead>\n",
       "    <tr style=\"text-align: right;\">\n",
       "      <th></th>\n",
       "      <th>DRB</th>\n",
       "      <th>TOV</th>\n",
       "      <th>PPG</th>\n",
       "      <th>VORP</th>\n",
       "    </tr>\n",
       "  </thead>\n",
       "  <tbody>\n",
       "    <tr>\n",
       "      <th>0</th>\n",
       "      <td>-0.933374</td>\n",
       "      <td>-1.124529</td>\n",
       "      <td>-0.995680</td>\n",
       "      <td>-1.088051</td>\n",
       "    </tr>\n",
       "    <tr>\n",
       "      <th>1</th>\n",
       "      <td>1.505527</td>\n",
       "      <td>0.429735</td>\n",
       "      <td>0.890182</td>\n",
       "      <td>0.950028</td>\n",
       "    </tr>\n",
       "    <tr>\n",
       "      <th>2</th>\n",
       "      <td>-0.445594</td>\n",
       "      <td>-0.168059</td>\n",
       "      <td>0.443530</td>\n",
       "      <td>-0.360166</td>\n",
       "    </tr>\n",
       "    <tr>\n",
       "      <th>3</th>\n",
       "      <td>-0.364297</td>\n",
       "      <td>1.266646</td>\n",
       "      <td>1.039065</td>\n",
       "      <td>-0.942474</td>\n",
       "    </tr>\n",
       "    <tr>\n",
       "      <th>4</th>\n",
       "      <td>-1.502451</td>\n",
       "      <td>-1.004970</td>\n",
       "      <td>-1.078393</td>\n",
       "      <td>-0.651320</td>\n",
       "    </tr>\n",
       "  </tbody>\n",
       "</table>\n",
       "</div>"
      ],
      "text/plain": [
       "        DRB       TOV       PPG      VORP\n",
       "0 -0.933374 -1.124529 -0.995680 -1.088051\n",
       "1  1.505527  0.429735  0.890182  0.950028\n",
       "2 -0.445594 -0.168059  0.443530 -0.360166\n",
       "3 -0.364297  1.266646  1.039065 -0.942474\n",
       "4 -1.502451 -1.004970 -1.078393 -0.651320"
      ]
     },
     "execution_count": 23,
     "metadata": {},
     "output_type": "execute_result"
    }
   ],
   "source": [
    "X_2018.head()"
   ]
  },
  {
   "cell_type": "code",
   "execution_count": 30,
   "metadata": {
    "collapsed": true
   },
   "outputs": [],
   "source": [
    "model = KNeighborsClassifier()\n",
    "model.fit(X_train, y_train)\n",
    "final_pred = model.predict(X_2018)"
   ]
  },
  {
   "cell_type": "code",
   "execution_count": 39,
   "metadata": {
    "collapsed": true
   },
   "outputs": [],
   "source": [
    "final_df = pd.DataFrame(names)\n",
    "final_df['salary'] = final_pred"
   ]
  },
  {
   "cell_type": "code",
   "execution_count": 40,
   "metadata": {
    "collapsed": false
   },
   "outputs": [
    {
     "data": {
      "text/html": [
       "<div>\n",
       "<style>\n",
       "    .dataframe thead tr:only-child th {\n",
       "        text-align: right;\n",
       "    }\n",
       "\n",
       "    .dataframe thead th {\n",
       "        text-align: left;\n",
       "    }\n",
       "\n",
       "    .dataframe tbody tr th {\n",
       "        vertical-align: top;\n",
       "    }\n",
       "</style>\n",
       "<table border=\"1\" class=\"dataframe\">\n",
       "  <thead>\n",
       "    <tr style=\"text-align: right;\">\n",
       "      <th></th>\n",
       "      <th>name</th>\n",
       "      <th>salary</th>\n",
       "    </tr>\n",
       "  </thead>\n",
       "  <tbody>\n",
       "    <tr>\n",
       "      <th>0</th>\n",
       "      <td>arronafflalo</td>\n",
       "      <td>1</td>\n",
       "    </tr>\n",
       "    <tr>\n",
       "      <th>1</th>\n",
       "      <td>willbarton</td>\n",
       "      <td>2</td>\n",
       "    </tr>\n",
       "    <tr>\n",
       "      <th>2</th>\n",
       "      <td>marcobelinelli</td>\n",
       "      <td>2</td>\n",
       "    </tr>\n",
       "    <tr>\n",
       "      <th>3</th>\n",
       "      <td>averybradley</td>\n",
       "      <td>5</td>\n",
       "    </tr>\n",
       "    <tr>\n",
       "      <th>4</th>\n",
       "      <td>aaronbrooks</td>\n",
       "      <td>1</td>\n",
       "    </tr>\n",
       "  </tbody>\n",
       "</table>\n",
       "</div>"
      ],
      "text/plain": [
       "             name  salary\n",
       "0    arronafflalo       1\n",
       "1      willbarton       2\n",
       "2  marcobelinelli       2\n",
       "3    averybradley       5\n",
       "4     aaronbrooks       1"
      ]
     },
     "execution_count": 40,
     "metadata": {},
     "output_type": "execute_result"
    }
   ],
   "source": [
    "final_df.head()"
   ]
  },
  {
   "cell_type": "code",
   "execution_count": 151,
   "metadata": {
    "collapsed": false
   },
   "outputs": [
    {
     "name": "stdout",
     "output_type": "stream",
     "text": [
      "Train accuracy (R^2):  92.42175 \n",
      "Test accuracy (R^2):  51.91882 \n",
      "Test error (average error):  1.193258426966292 \n",
      "      y_test  y_test_pred\n",
      "249       8          6.9\n",
      "180       3          2.5\n",
      "292       6          6.1\n",
      "31        3          5.8\n",
      "310       8          7.5\n",
      "225       8          7.1\n",
      "185       4          2.6\n",
      "399       1          1.0\n",
      "443       3          3.2\n",
      "4         3          4.6\n",
      "238       4          2.5\n",
      "287       5          4.6\n",
      "132       3          4.6\n",
      "392       5          3.4\n",
      "161       2          3.2\n",
      "165       2          1.0\n",
      "370       4          3.7\n",
      "325       1          2.2\n",
      "260       4          2.4\n",
      "353       2          5.5\n",
      "221       2          2.1\n",
      "283       4          1.7\n",
      "284       1          2.0\n",
      "5         3          4.9\n",
      "128       8          6.4\n",
      "350       3          2.4\n",
      "294       1          1.3\n",
      "286       3          6.3\n",
      "146       2          1.7\n",
      "17        1          2.8\n",
      "..      ...          ...\n",
      "90        2          1.2\n",
      "214       8          3.9\n",
      "223       1          1.1\n",
      "378       2          1.1\n",
      "339       1          1.8\n",
      "427       2          3.5\n",
      "436       1          1.2\n",
      "6         4          5.2\n",
      "306       4          3.4\n",
      "208       8          5.9\n",
      "345       3          2.7\n",
      "289       4          2.1\n",
      "245       6          6.5\n",
      "173       3          4.4\n",
      "388       2          1.6\n",
      "403       5          5.3\n",
      "58        8          8.0\n",
      "334       1          2.9\n",
      "139       1          1.6\n",
      "236       6          5.8\n",
      "299       1          3.8\n",
      "213       1          1.1\n",
      "159       2          3.5\n",
      "18        3          2.6\n",
      "40        5          2.7\n",
      "191       2          2.0\n",
      "417       1          1.0\n",
      "273       8          8.0\n",
      "362       6          3.9\n",
      "258       1          1.8\n",
      "\n",
      "[89 rows x 2 columns]\n"
     ]
    }
   ],
   "source": [
    "from sklearn.ensemble import RandomForestRegressor\n",
    "\n",
    "model_fit(RandomForestRegressor(random_state = 4), X_train, X_test, y_train, y_test)"
   ]
  },
  {
   "cell_type": "code",
   "execution_count": null,
   "metadata": {
    "collapsed": true
   },
   "outputs": [],
   "source": []
  },
  {
   "cell_type": "code",
   "execution_count": 99,
   "metadata": {
    "collapsed": true
   },
   "outputs": [],
   "source": [
    "def plot_model_var_imp( model , X , y ):\n",
    "    \n",
    "    model.fit(X,y)\n",
    "\n",
    "    imp = pd.DataFrame( \n",
    "        model.feature_importances_  , \n",
    "        columns = [ 'Importance' ] , \n",
    "        index = X.columns \n",
    "    )\n",
    "    imp = imp.sort_values( [ 'Importance' ] , ascending = True )\n",
    "    imp[ : 10 ].plot( kind = 'barh' )\n",
    "    print (model.score( X , y ))"
   ]
  },
  {
   "cell_type": "code",
   "execution_count": 187,
   "metadata": {
    "collapsed": false
   },
   "outputs": [
    {
     "name": "stdout",
     "output_type": "stream",
     "text": [
      "0.911315061273\n"
     ]
    },
    {
     "data": {
      "image/png": "[encoded data removed]",
      "text/plain": [
       "<matplotlib.figure.Figure at 0x17ef32532e8>"
      ]
     },
     "metadata": {},
     "output_type": "display_data"
    }
   ],
   "source": [
    "plot_model_var_imp(RandomForestRegressor(), X_train, y_train)"
   ]
  },
  {
   "cell_type": "code",
   "execution_count": 86,
   "metadata": {
    "collapsed": false
   },
   "outputs": [
    {
     "name": "stdout",
     "output_type": "stream",
     "text": [
      "Hyperparameter tuning took 3.691541910171509 seconds\n"
     ]
    }
   ],
   "source": [
    "import time\n",
    "from sklearn.model_selection import GridSearchCV, StratifiedKFold\n",
    "\n",
    "kfold = StratifiedKFold(n_splits=10)\n",
    "knn = KNeighborsRegressor()\n",
    "\n",
    "param_grid = {\"n_neighbors\": [1,3,5,7,9,11,13,15,17,19],\n",
    "              \"weights\": [\"uniform\", \"distance\"], \n",
    "              \"leaf_size\": [30,50,70]}\n",
    "            \n",
    "start_time = time.time()\n",
    "# run grid search\n",
    "grid_search = GridSearchCV(knn, param_grid=param_grid, cv = 10)\n",
    "grid_search.fit(X_train, y_train)\n",
    "\n",
    "time = time.time() - start_time\n",
    "print(\"Hyperparameter tuning took {} seconds\".format(time))"
   ]
  },
  {
   "cell_type": "code",
   "execution_count": 87,
   "metadata": {
    "collapsed": false
   },
   "outputs": [
    {
     "data": {
      "text/plain": [
       "KNeighborsRegressor(algorithm='auto', leaf_size=30, metric='minkowski',\n",
       "          metric_params=None, n_jobs=1, n_neighbors=19, p=2,\n",
       "          weights='uniform')"
      ]
     },
     "execution_count": 87,
     "metadata": {},
     "output_type": "execute_result"
    }
   ],
   "source": [
    "grid_search.best_estimator_"
   ]
  },
  {
   "cell_type": "code",
   "execution_count": 88,
   "metadata": {
    "collapsed": false
   },
   "outputs": [
    {
     "data": {
      "text/plain": [
       "0.31967401876348978"
      ]
     },
     "execution_count": 88,
     "metadata": {},
     "output_type": "execute_result"
    }
   ],
   "source": [
    "grid_search.best_score_"
   ]
  },
  {
   "cell_type": "code",
   "execution_count": null,
   "metadata": {
    "collapsed": true
   },
   "outputs": [],
   "source": []
  }
 ],
 "metadata": {
  "kernelspec": {
   "display_name": "Python [Root]",
   "language": "python",
   "name": "Python [Root]"
  },
  "language_info": {
   "codemirror_mode": {
    "name": "ipython",
    "version": 3
   },
   "file_extension": ".py",
   "mimetype": "text/x-python",
   "name": "python",
   "nbconvert_exporter": "python",
   "pygments_lexer": "ipython3",
   "version": "3.5.2"
  }
 },
 "nbformat": 4,
 "nbformat_minor": 2
}
