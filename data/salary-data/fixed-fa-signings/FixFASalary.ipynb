{
 "cells": [
  {
   "cell_type": "code",
   "execution_count": 3,
   "metadata": {
    "collapsed": true
   },
   "outputs": [],
   "source": [
    "import numpy as np\n",
    "import pandas as pd\n",
    "import re"
   ]
  },
  {
   "cell_type": "code",
   "execution_count": 4,
   "metadata": {
    "collapsed": true
   },
   "outputs": [],
   "source": [
    "def joinTables(FA_names, average_salary):\n",
    "    #Add 'name' column to salary_df\n",
    "    name_col = (FA_names['first name'] + FA_names['last name']).str.lower()\n",
    "    for i in range(len(name_col)):\n",
    "        new_name = re.sub(\"[^a-zA-Z]+\", \"\", name_col[i])\n",
    "        if new_name.endswith('jr'):\n",
    "            new_name = new_name[:-2]\n",
    "        name_col[i] = new_name\n",
    "    FA_names.insert(0, 'name', name_col)\n",
    "    return FA_names.merge(average_salary, how = 'inner', on = ['last name', 'first name'])"
   ]
  },
  {
   "cell_type": "code",
   "execution_count": 9,
   "metadata": {
    "collapsed": true
   },
   "outputs": [],
   "source": [
    "def create_csv():\n",
    "    for i in ['2011', '2012', '2013', '2014', '2015', '2016', '2017']:\n",
    "        fa_csv_name = 'salary-data/FA-Names-List/' + i + '.csv'\n",
    "        average_csv_name = 'salary-data/average-salaries/' + i + '.csv'\n",
    "        faNames = pd.read_csv(fa_csv_name)\n",
    "        averageSalary = pd.read_csv(average_csv_name)\n",
    "        combined = joinTables(faNames, averageSalary)\n",
    "        combined.to_csv(i + '.csv')"
   ]
  },
  {
   "cell_type": "code",
   "execution_count": 10,
   "metadata": {
    "collapsed": false
   },
   "outputs": [],
   "source": [
    "create_csv()"
   ]
  },
  {
   "cell_type": "code",
   "execution_count": null,
   "metadata": {
    "collapsed": true
   },
   "outputs": [],
   "source": []
  }
 ],
 "metadata": {
  "kernelspec": {
   "display_name": "Python 3",
   "language": "python",
   "name": "python3"
  },
  "language_info": {
   "codemirror_mode": {
    "name": "ipython",
    "version": 3
   },
   "file_extension": ".py",
   "mimetype": "text/x-python",
   "name": "python",
   "nbconvert_exporter": "python",
   "pygments_lexer": "ipython3",
   "version": "3.5.2"
  }
 },
 "nbformat": 4,
 "nbformat_minor": 2
}
